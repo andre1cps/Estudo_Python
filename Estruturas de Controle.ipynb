{
 "cells": [
  {
   "cell_type": "markdown",
   "metadata": {},
   "source": [
    "# IF, ELIF e ELSE"
   ]
  },
  {
   "cell_type": "code",
   "execution_count": 11,
   "metadata": {},
   "outputs": [
    {
     "name": "stdout",
     "output_type": "stream",
     "text": [
      "Dez é igual a 10.01\n"
     ]
    }
   ],
   "source": [
    "ten = 10.012\n",
    "\n",
    "# No Python não preciso fechar o comando if!\n",
    "if ten == 10.012:\n",
    "    print(\"Dez é igual a {0:.2f}\".format(ten))"
   ]
  },
  {
   "cell_type": "code",
   "execution_count": 15,
   "metadata": {},
   "outputs": [
    {
     "name": "stdout",
     "output_type": "stream",
     "text": [
      "Não sei os dois números.\n"
     ]
    }
   ],
   "source": [
    "# Quando começo a escrever no começo da linha, já saí do if    \n",
    "one = 2\n",
    "ten = 10.01\n",
    "# Exemplo de um if onde a primeira e a segunda condições \n",
    "# são verdadeiras (True e True):\n",
    "if ten == 10.012 and one == 1:\n",
    "    print(\"Os valores {0:.3f} e {1} existem.\".format(ten,one))\n",
    "elif ten == 10.012 and one != 1:\n",
    "    print(\"O valor {0} existe, porém o segundo valor foi mudado de 1 para {1}.\".format(ten,one))\n",
    "else:\n",
    "    print('Não sei os dois números.')"
   ]
  },
  {
   "cell_type": "code",
   "execution_count": 16,
   "metadata": {},
   "outputs": [
    {
     "data": {
      "text/plain": [
       "True"
      ]
     },
     "execution_count": 16,
     "metadata": {},
     "output_type": "execute_result"
    }
   ],
   "source": [
    "True and True"
   ]
  },
  {
   "cell_type": "code",
   "execution_count": 17,
   "metadata": {},
   "outputs": [
    {
     "data": {
      "text/plain": [
       "False"
      ]
     },
     "execution_count": 17,
     "metadata": {},
     "output_type": "execute_result"
    }
   ],
   "source": [
    "True and False"
   ]
  },
  {
   "cell_type": "code",
   "execution_count": 18,
   "metadata": {},
   "outputs": [
    {
     "data": {
      "text/plain": [
       "False"
      ]
     },
     "execution_count": 18,
     "metadata": {},
     "output_type": "execute_result"
    }
   ],
   "source": [
    "False and True"
   ]
  },
  {
   "cell_type": "code",
   "execution_count": 19,
   "metadata": {},
   "outputs": [
    {
     "data": {
      "text/plain": [
       "False"
      ]
     },
     "execution_count": 19,
     "metadata": {},
     "output_type": "execute_result"
    }
   ],
   "source": [
    "False and False"
   ]
  },
  {
   "cell_type": "code",
   "execution_count": 20,
   "metadata": {},
   "outputs": [
    {
     "data": {
      "text/plain": [
       "True"
      ]
     },
     "execution_count": 20,
     "metadata": {},
     "output_type": "execute_result"
    }
   ],
   "source": [
    "True or True"
   ]
  },
  {
   "cell_type": "code",
   "execution_count": 21,
   "metadata": {},
   "outputs": [
    {
     "data": {
      "text/plain": [
       "True"
      ]
     },
     "execution_count": 21,
     "metadata": {},
     "output_type": "execute_result"
    }
   ],
   "source": [
    "True or False"
   ]
  },
  {
   "cell_type": "code",
   "execution_count": 22,
   "metadata": {},
   "outputs": [
    {
     "data": {
      "text/plain": [
       "True"
      ]
     },
     "execution_count": 22,
     "metadata": {},
     "output_type": "execute_result"
    }
   ],
   "source": [
    "False or True"
   ]
  },
  {
   "cell_type": "code",
   "execution_count": 23,
   "metadata": {},
   "outputs": [
    {
     "data": {
      "text/plain": [
       "False"
      ]
     },
     "execution_count": 23,
     "metadata": {},
     "output_type": "execute_result"
    }
   ],
   "source": [
    "False or False"
   ]
  },
  {
   "cell_type": "code",
   "execution_count": 24,
   "metadata": {},
   "outputs": [
    {
     "name": "stdout",
     "output_type": "stream",
     "text": [
      "Pareço mais forte.\n"
     ]
    }
   ],
   "source": [
    "# Outro exemplo de if e elif:\n",
    "blusa = 'justa'\n",
    "if blusa == \"preta\":\n",
    "    print('Pareço mais magro.')\n",
    "elif blusa == 'justa':\n",
    "    print('Pareço mais forte.')\n",
    "else:\n",
    "    print('Pareço mais gordo.')"
   ]
  },
  {
   "cell_type": "markdown",
   "metadata": {},
   "source": [
    "# While"
   ]
  },
  {
   "cell_type": "code",
   "execution_count": 26,
   "metadata": {},
   "outputs": [
    {
     "name": "stdout",
     "output_type": "stream",
     "text": [
      "A\n",
      "n\n",
      "d\n",
      "r\n",
      "e\n"
     ]
    }
   ],
   "source": [
    "nome='Andre'\n",
    "i = 0\n",
    "while i < len(nome):\n",
    "    print(nome[i])\n",
    "    i = i + 1         # ou i += 1"
   ]
  },
  {
   "cell_type": "code",
   "execution_count": 29,
   "metadata": {},
   "outputs": [
    {
     "name": "stdout",
     "output_type": "stream",
     "text": [
      "Insira um número: 23\n",
      "CARAMBA! Como você sabia que o número secreto era 23? Acertou de primeira!\n",
      "Fim do programa\n"
     ]
    }
   ],
   "source": [
    "num = 23\n",
    "adv = 0\n",
    "contad = 0\n",
    "\n",
    "# Exemplo de while com if, elif e else dentro:\n",
    "while adv != num: # Enquanto adv for diferente de num\n",
    "    ad = input('Insira um número: ')\n",
    "    adv = int(ad)\n",
    "    if adv == num and contad == 0:\n",
    "        print('CARAMBA! Como você sabia que o número secreto era {0}? Acertou de primeira!'.format(num))\n",
    "    elif adv < num:\n",
    "        print('O numero inserido é menor que o número secreto, continue tentando!')\n",
    "        contad += 1\n",
    "    elif adv > num: # \"Elif\" equivale a ELSE IF\n",
    "        print('O numero inserido é maior que o número secreto, tente mais uma vez!')\n",
    "        contad += 1\n",
    "    else:\n",
    "        print('Você acertou o número secreto depois de {0} tentativas. É {1} mesmo!'.format(contad,num))\n",
    "print('Fim do programa')"
   ]
  },
  {
   "cell_type": "code",
   "execution_count": 2,
   "metadata": {},
   "outputs": [
    {
     "name": "stdout",
     "output_type": "stream",
     "text": [
      "Entre com um número inteiro: 6\n",
      "6! é igual a 720.\n"
     ]
    }
   ],
   "source": [
    "# Outro exemplo de while, cálculo de fatorial:\n",
    "resultado = 1\n",
    "num = input(\"Entre com um número inteiro: \")\n",
    "num2 = int(num)\n",
    "if num2 == 1:\n",
    "    print('{0}! é igual a {1}.'.format(num2,resultado))\n",
    "elif num2 != 1:\n",
    "    while num2 > 1:\n",
    "        resultado = resultado * num2\n",
    "        num2 = num2 - 1\n",
    "print('{0}! é igual a {1}.'.format(num,resultado))"
   ]
  },
  {
   "cell_type": "code",
   "execution_count": 3,
   "metadata": {},
   "outputs": [
    {
     "name": "stdout",
     "output_type": "stream",
     "text": [
      "1\n",
      "2\n",
      "3\n"
     ]
    }
   ],
   "source": [
    "# Mais um exemplo de While\n",
    "x = 1\n",
    "while x <= 3:\n",
    "    print(x)\n",
    "    x = x + 1"
   ]
  },
  {
   "cell_type": "code",
   "execution_count": 4,
   "metadata": {},
   "outputs": [
    {
     "name": "stdout",
     "output_type": "stream",
     "text": [
      "1\n",
      "2\n",
      "3\n",
      "4\n",
      "O programa deve parar aqui!\n"
     ]
    }
   ],
   "source": [
    "# Mais um exemplo de While, só que o comando BREAK\n",
    "x = 1\n",
    "while x < 10:\n",
    "    print(x)\n",
    "    if x == 4:\n",
    "        print('O programa deve parar aqui!')\n",
    "        break # O camando break FORÇA a saída de dentro do while\n",
    "    x += 1 # Isto equivale a x = x + 1"
   ]
  },
  {
   "cell_type": "markdown",
   "metadata": {},
   "source": [
    "# For"
   ]
  },
  {
   "cell_type": "code",
   "execution_count": 9,
   "metadata": {},
   "outputs": [
    {
     "name": "stdout",
     "output_type": "stream",
     "text": [
      "1\n",
      "2\n",
      "3\n",
      "4\n",
      "5\n",
      "6\n",
      "7\n",
      "8\n",
      "9\n",
      "10\n"
     ]
    }
   ],
   "source": [
    "# Agora vamos para o comando FOR, que neste exmplo vai adionando \n",
    "# 1 à variável \"contador\", até que esta variável tenha o valor 10 \n",
    "for contador in range(1,11): # Aqui atribuo os valores do range à variável \"contador\"\n",
    "    print(contador)"
   ]
  },
  {
   "cell_type": "code",
   "execution_count": 10,
   "metadata": {},
   "outputs": [
    {
     "name": "stdout",
     "output_type": "stream",
     "text": [
      "O item atual é: vida\n",
      "O item atual é: 42\n",
      "O item atual é: o universo\n",
      "O item atual é: 6\n",
      "O item atual é: e\n",
      "O item atual é: 7\n",
      "O item atual é: tudo\n"
     ]
    }
   ],
   "source": [
    "# Comando FOR com strings. Aqui o comando for vai andando dentro\n",
    "# dos elementos do vetor \"lista\"\n",
    "lista = ['vida', '42', 'o universo', '6', 'e', 7, 'tudo']\n",
    "for item in lista: # Atribuindo os elementos da lista à variável \"item\"\n",
    "    print('O item atual é: {0}'.format(item))"
   ]
  },
  {
   "cell_type": "code",
   "execution_count": 15,
   "metadata": {},
   "outputs": [
    {
     "name": "stdout",
     "output_type": "stream",
     "text": [
      "Não achei o 4 ainda...\n",
      "Não achei o 4 ainda...\n",
      "Não achei o 4 ainda...\n",
      "Achei o número 4 dentro da lista.\n"
     ]
    }
   ],
   "source": [
    "# Comando FOR com um IF, o qual tem um BREAK dentro\n",
    "lista = [1,2,3,4]\n",
    "for item in lista:\n",
    "    if item == 4:\n",
    "        print('Achei o número 4 dentro da lista.')\n",
    "        break\n",
    "    else:\n",
    "        if item is not 4:\n",
    "            print('Não achei o 4 ainda...')"
   ]
  },
  {
   "cell_type": "code",
   "execution_count": 5,
   "metadata": {},
   "outputs": [
    {
     "name": "stdout",
     "output_type": "stream",
     "text": [
      "A\n",
      "n\n",
      "d\n",
      "r\n",
      "e\n"
     ]
    }
   ],
   "source": [
    "nome='Andre'\n",
    "for element in nome:\n",
    "    print(element)"
   ]
  },
  {
   "cell_type": "code",
   "execution_count": 6,
   "metadata": {},
   "outputs": [
    {
     "name": "stdout",
     "output_type": "stream",
     "text": [
      "0 A\n",
      "1 n\n",
      "2 d\n",
      "3 r\n",
      "4 e\n"
     ]
    }
   ],
   "source": [
    "for i in range(len(nome)):\n",
    "    print(i, nome[i])"
   ]
  },
  {
   "cell_type": "code",
   "execution_count": 7,
   "metadata": {},
   "outputs": [
    {
     "name": "stdout",
     "output_type": "stream",
     "text": [
      "0 A\n",
      "1 n\n",
      "2 d\n",
      "3 r\n",
      "4 e\n"
     ]
    }
   ],
   "source": [
    "# Função enumerate():\n",
    "for i, element in enumerate(nome):\n",
    "    print(i, nome[i])\n",
    "    "
   ]
  },
  {
   "cell_type": "code",
   "execution_count": 8,
   "metadata": {},
   "outputs": [
    {
     "name": "stdout",
     "output_type": "stream",
     "text": [
      "0 A\n",
      "1 n\n",
      "2 d\n",
      "3 r\n",
      "4 e\n"
     ]
    }
   ],
   "source": [
    "for i, element in enumerate(nome):\n",
    "    print(i, element)"
   ]
  },
  {
   "cell_type": "code",
   "execution_count": null,
   "metadata": {},
   "outputs": [],
   "source": []
  }
 ],
 "metadata": {
  "kernelspec": {
   "display_name": "Python 3",
   "language": "python",
   "name": "python3"
  },
  "language_info": {
   "codemirror_mode": {
    "name": "ipython",
    "version": 3
   },
   "file_extension": ".py",
   "mimetype": "text/x-python",
   "name": "python",
   "nbconvert_exporter": "python",
   "pygments_lexer": "ipython3",
   "version": "3.7.7"
  }
 },
 "nbformat": 4,
 "nbformat_minor": 4
}
