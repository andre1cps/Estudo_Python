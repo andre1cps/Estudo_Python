{
 "cells": [
  {
   "cell_type": "markdown",
   "metadata": {},
   "source": [
    "# Listas"
   ]
  },
  {
   "cell_type": "code",
   "execution_count": 7,
   "metadata": {},
   "outputs": [
    {
     "data": {
      "text/plain": [
       "[1, 2.1, [3, 0], 'oi', False, (2+1j)]"
      ]
     },
     "execution_count": 7,
     "metadata": {},
     "output_type": "execute_result"
    }
   ],
   "source": [
    "# Listas ou vetores guardam muitas variáveis ENTRE COLCHETES\n",
    "# Definindo uma lista com int, float, list, str, bool e complex:\n",
    "l = [1, 2.1, [3,0], 'oi', False, 1j+2]\n",
    "l"
   ]
  },
  {
   "cell_type": "code",
   "execution_count": 8,
   "metadata": {},
   "outputs": [
    {
     "name": "stdout",
     "output_type": "stream",
     "text": [
      "9\n",
      "7\n"
     ]
    },
    {
     "data": {
      "text/plain": [
       "3"
      ]
     },
     "execution_count": 8,
     "metadata": {},
     "output_type": "execute_result"
    }
   ],
   "source": [
    "lista1 = [9,8,7]  # Lista com 3 elementos, mas o primeiro é o da posição zero\n",
    "print(lista1[0])  # Mostra o primeiro elemento da lista, que neste caso é o numero 9\n",
    "print(lista1[2])\n",
    "len(lista1)       # Dá o número de elementos que estão dentro da lista denominada \"lista1\""
   ]
  },
  {
   "cell_type": "code",
   "execution_count": 9,
   "metadata": {},
   "outputs": [
    {
     "data": {
      "text/plain": [
       "[1, 2.1, [3, 0], 'oi', False, (2+1j), 1, 2.1, [3, 0], 'oi', False, (2+1j)]"
      ]
     },
     "execution_count": 9,
     "metadata": {},
     "output_type": "execute_result"
    }
   ],
   "source": [
    "# Posso concatenar uma lista com ela mesma:\n",
    "l*2"
   ]
  },
  {
   "cell_type": "code",
   "execution_count": 20,
   "metadata": {},
   "outputs": [
    {
     "name": "stdout",
     "output_type": "stream",
     "text": [
      "[[1, 2, 3], ['ola', 22, True], [98, 88, 77]]\n",
      "<class 'list'>\n",
      "<class 'list'>\n"
     ]
    }
   ],
   "source": [
    "# Listas também podem conter outras listas dentro delas (são as sublistas)\n",
    "ls1 = [1,2,3]\n",
    "ls2 = ['ola',22,True]\n",
    "ls3 = [98, 88, 77]\n",
    "lscompleta=[ls1,ls2,ls3]\n",
    "print(lscompleta)\n",
    "print(type(ls1))\n",
    "print(type(lscompleta))"
   ]
  },
  {
   "cell_type": "code",
   "execution_count": 22,
   "metadata": {},
   "outputs": [
    {
     "data": {
      "text/plain": [
       "True"
      ]
     },
     "execution_count": 22,
     "metadata": {},
     "output_type": "execute_result"
    }
   ],
   "source": [
    "# Pegando o último elemento da sublista \"ls3\"\n",
    "lscompleta[1][-1] # Aqui o \"[2]\" se refere à sublista na posição 1 dentro da lscompleta. O [-1] pega o \n",
    "                  # último elemento (contando de trás pra frente) dessa sublista"
   ]
  },
  {
   "cell_type": "code",
   "execution_count": 10,
   "metadata": {},
   "outputs": [
    {
     "name": "stdout",
     "output_type": "stream",
     "text": [
      "[1, 2, 3, 4, 5]\n",
      "[1, 2, 3, 4, 5, 6, 7, 8]\n",
      "[1, 2, 4, 5, 6, 7, 8]\n"
     ]
    }
   ],
   "source": [
    "# Adicionando uma lista inteira ao final de uma lista dada\n",
    "listadada = [1,2,3,4,5]\n",
    "print(listadada)\n",
    "listamaior = listadada + [6, 7, 8]\n",
    "print(listamaior)\n",
    "# Deletando o terceiro elemento da \"listamaior\"\n",
    "del(listamaior[2])\n",
    "print(listamaior)"
   ]
  },
  {
   "cell_type": "code",
   "execution_count": 11,
   "metadata": {},
   "outputs": [
    {
     "data": {
      "text/plain": [
       "['__add__',\n",
       " '__class__',\n",
       " '__contains__',\n",
       " '__delattr__',\n",
       " '__delitem__',\n",
       " '__dir__',\n",
       " '__doc__',\n",
       " '__eq__',\n",
       " '__format__',\n",
       " '__ge__',\n",
       " '__getattribute__',\n",
       " '__getitem__',\n",
       " '__gt__',\n",
       " '__hash__',\n",
       " '__iadd__',\n",
       " '__imul__',\n",
       " '__init__',\n",
       " '__init_subclass__',\n",
       " '__iter__',\n",
       " '__le__',\n",
       " '__len__',\n",
       " '__lt__',\n",
       " '__mul__',\n",
       " '__ne__',\n",
       " '__new__',\n",
       " '__reduce__',\n",
       " '__reduce_ex__',\n",
       " '__repr__',\n",
       " '__reversed__',\n",
       " '__rmul__',\n",
       " '__setattr__',\n",
       " '__setitem__',\n",
       " '__sizeof__',\n",
       " '__str__',\n",
       " '__subclasshook__',\n",
       " 'append',\n",
       " 'clear',\n",
       " 'copy',\n",
       " 'count',\n",
       " 'extend',\n",
       " 'index',\n",
       " 'insert',\n",
       " 'pop',\n",
       " 'remove',\n",
       " 'reverse',\n",
       " 'sort']"
      ]
     },
     "execution_count": 11,
     "metadata": {},
     "output_type": "execute_result"
    }
   ],
   "source": [
    "# Listando métodos/atributos de um objeto qualquer - uso o dir():\n",
    "lista1 = [9,8,7]\n",
    "dir(lista1)"
   ]
  },
  {
   "cell_type": "code",
   "execution_count": 12,
   "metadata": {},
   "outputs": [
    {
     "name": "stdout",
     "output_type": "stream",
     "text": [
      "Help on built-in function append:\n",
      "\n",
      "append(object, /) method of builtins.list instance\n",
      "    Append object to the end of the list.\n",
      "\n"
     ]
    }
   ],
   "source": [
    "# Usando o help() para saber o que certo método de um certo objeto faz:\n",
    "help(lista1.append)"
   ]
  },
  {
   "cell_type": "code",
   "execution_count": 13,
   "metadata": {},
   "outputs": [
    {
     "name": "stdout",
     "output_type": "stream",
     "text": [
      "[9, 8, 7, 200]\n",
      "[9, 8, 7, 200, 6, 5, 4]\n",
      "[14, 8, 7, 200, 6, 5, 4]\n"
     ]
    }
   ],
   "source": [
    "lista1.append(200) # O método \"append\" adiciona o número 200 ao final da lista\n",
    "print(lista1)\n",
    "lista1.extend([6,5,4]) # O método \"extend\" adiciona uma outra lista INTEIRA ao final da sua lista\n",
    "print(lista1)\n",
    "lista1[0] = 14 # Insere o valor '14' na posição '0' da lista, ou seja, substitui o primeiro item da lista\n",
    "print(lista1)"
   ]
  },
  {
   "cell_type": "code",
   "execution_count": 19,
   "metadata": {},
   "outputs": [
    {
     "name": "stdout",
     "output_type": "stream",
     "text": [
      "[1, 2, 3]\n",
      "[1, 2, 3, 4]\n",
      "[1, 3, 4]\n",
      "[1, 3, 4, 4]\n",
      "2\n"
     ]
    }
   ],
   "source": [
    "# Mais alguns métodos de listas\n",
    "lista2 = [1,2,3]\n",
    "print(lista2)\n",
    "lista2.append(4)\n",
    "print(lista2)\n",
    "lista2.pop(1) # Este método remove (tira mesmo) o elemento na posição '1' da lista\n",
    "print(lista2)\n",
    "lista2.append(4)\n",
    "print(lista2)\n",
    "print(lista2.count(4)) # Conta quantas vezes o '4' se repete na lista"
   ]
  },
  {
   "cell_type": "code",
   "execution_count": 16,
   "metadata": {},
   "outputs": [
    {
     "data": {
      "text/plain": [
       "['Janeiro',\n",
       " 'Fevereiro',\n",
       " 'Marco',\n",
       " 'Abril',\n",
       " 'Maio',\n",
       " 'Junho',\n",
       " 'Julho',\n",
       " 'Agosto',\n",
       " 'Setembro',\n",
       " 'Outubro',\n",
       " 'Novembro',\n",
       " 'Dezembro']"
      ]
     },
     "execution_count": 16,
     "metadata": {},
     "output_type": "execute_result"
    }
   ],
   "source": [
    "# Inserindo uma lista que só tem strings dentro\n",
    "meses = ['Janeiro', 'Fevereiro', 'Marco', 'Abril', 'Maio', 'Junho', 'Julho', 'Agosto', 'Setembro', 'Outubro', 'Novembro', 'Dezembro']\n",
    "meses"
   ]
  },
  {
   "cell_type": "code",
   "execution_count": 18,
   "metadata": {},
   "outputs": [
    {
     "name": "stdout",
     "output_type": "stream",
     "text": [
      "['Junho', 'Julho', 'Agosto']\n",
      "['Janeiro', 'Fevereiro']\n",
      "['Outubro', 'Novembro', 'Dezembro']\n",
      "['Setembro', 'Outubro', 'Novembro']\n"
     ]
    }
   ],
   "source": [
    "# Pegando só alguns elementos da lista \"meses\" e criando uma nova lista, a \"mesmeio\"\n",
    "mesmeio = meses[5:8] # Aqui estou pegando os elementos 5,6 e 7 da lista \"meses\", lembrando \n",
    "                     # que ela começa a contar no elemento zero.\n",
    "                     # OBS: o que está antes do \":\" é incluído (intervalo matemático fechado) e o que está \n",
    "                     # depois é excluído (intervalo mat. aberto), tipo assim [5:8[\n",
    "print(mesmeio)\n",
    "# Pegando todos os elementos nas posições que vem antes do \":\":\n",
    "comeco = meses[:2]\n",
    "print(comeco)\n",
    "# Pegando todos os elementos a partir da 9° posição:\n",
    "fim = meses[9:]\n",
    "print(fim)\n",
    "fim2 = meses[-4:-1]\n",
    "print(fim2)"
   ]
  },
  {
   "cell_type": "code",
   "execution_count": 15,
   "metadata": {},
   "outputs": [
    {
     "name": "stdout",
     "output_type": "stream",
     "text": [
      "[11.25, 18.0, 20.0, 10.75, 9.5]\n",
      "[11.25, 18.0, 20.0, 10.75, 9.5]\n",
      "[5.0, 18.0, 20.0, 10.75, 9.5]\n",
      "[5.0, 18.0, 20.0, 10.75, 9.5]\n",
      "[5.0, 18.0, 20.0, 10.75, 9.5]\n",
      "[2222, 18.0, 20.0, 10.75, 9.5]\n"
     ]
    }
   ],
   "source": [
    "# Fazendo uma lista e uma cópia dela\n",
    "areas = [11.25, 18.0, 20.0, 10.75, 9.50]\n",
    "areas_copy = areas\n",
    "print(areas)\n",
    "print(areas_copy)\n",
    "areas_copy[0] = 5.0\n",
    "print(areas_copy)\n",
    "print(areas) # Aqui vejo que, mesmo sem mexer em nenhum elemento da lista \"areas\", mas sim na \n",
    "             # cópia dela, muda nas duas listas\n",
    "# Para evitar o que ocorreu acima devo colocar o comando list(areas), assim:\n",
    "areas_copy = list(areas)\n",
    "areas_copy[0] = 2222\n",
    "print(areas)\n",
    "print(areas_copy)"
   ]
  },
  {
   "cell_type": "code",
   "execution_count": 23,
   "metadata": {},
   "outputs": [
    {
     "data": {
      "text/plain": [
       "[0, 1, 2, 3, 4, 5, 6, 7, 8, 9]"
      ]
     },
     "execution_count": 23,
     "metadata": {},
     "output_type": "execute_result"
    }
   ],
   "source": [
    "# Construindo uma lista usando list e range():\n",
    "L = list(range(10))\n",
    "L"
   ]
  },
  {
   "cell_type": "code",
   "execution_count": 26,
   "metadata": {},
   "outputs": [
    {
     "name": "stdout",
     "output_type": "stream",
     "text": [
      "<class 'int'>\n",
      "<class 'int'>\n",
      "<class 'int'>\n",
      "<class 'int'>\n",
      "<class 'int'>\n",
      "<class 'int'>\n",
      "<class 'int'>\n",
      "<class 'int'>\n",
      "<class 'int'>\n",
      "<class 'int'>\n"
     ]
    }
   ],
   "source": [
    "# Todos os elementos da lista L são integers. O código abaixo é equivalente a\n",
    "for elemento in L:\n",
    "    print(type(elemento))"
   ]
  },
  {
   "cell_type": "code",
   "execution_count": 27,
   "metadata": {},
   "outputs": [
    {
     "data": {
      "text/plain": [
       "[int, int, int, int, int, int, int, int, int, int]"
      ]
     },
     "execution_count": 27,
     "metadata": {},
     "output_type": "execute_result"
    }
   ],
   "source": [
    "# A linha abaixo equivale ao código da célula acima\n",
    "[type(elemento) for elemento in L]"
   ]
  },
  {
   "cell_type": "code",
   "execution_count": 28,
   "metadata": {},
   "outputs": [
    {
     "data": {
      "text/plain": [
       "['0', '1', '2', '3', '4', '5', '6', '7', '8', '9']"
      ]
     },
     "execution_count": 28,
     "metadata": {},
     "output_type": "execute_result"
    }
   ],
   "source": [
    "# Fazendo uma lista que transforma todos os elementos de L em strings, usando str()\n",
    "L2 = [str(c) for c in L]\n",
    "L2"
   ]
  },
  {
   "cell_type": "code",
   "execution_count": 29,
   "metadata": {},
   "outputs": [
    {
     "data": {
      "text/plain": [
       "str"
      ]
     },
     "execution_count": 29,
     "metadata": {},
     "output_type": "execute_result"
    }
   ],
   "source": [
    "type(L2[0])"
   ]
  },
  {
   "cell_type": "code",
   "execution_count": 30,
   "metadata": {},
   "outputs": [
    {
     "data": {
      "text/plain": [
       "[bool, str, float, int]"
      ]
     },
     "execution_count": 30,
     "metadata": {},
     "output_type": "execute_result"
    }
   ],
   "source": [
    "# Criando uma lista que contém vários tipos de variáveis (isso só é possível no Python)\n",
    "L3 = [True, \"2\", 3.0, 4]\n",
    "[type(item) for item in L3]"
   ]
  },
  {
   "cell_type": "code",
   "execution_count": 48,
   "metadata": {},
   "outputs": [
    {
     "name": "stdout",
     "output_type": "stream",
     "text": [
      "['zero', 'um']\n",
      "['zero', 'um', 'dois', 'tres', 'quatro', 'cinco']\n",
      "'As variáveis da \n",
      "      lista \"teste\" são: zero, um, dois, tres, quatro e cinco\n",
      "As variáveis das posições 0 e 3 da lista \"teste\" são zero e tres.\n",
      "Antes a lista \"teste\" era: ['zero', 'um', 'dois', 'tres', 'quatro', 'cinco']\n",
      "Agora a lista \"teste\" é: ['zero', 'um', 'dois', 'quatro', 'cinco'] ou seja, sem o elemento que ocupava a terceira posição.\n",
      "['zero', 'dois', 'quatro', 'cinco']\n",
      "['zero', 'dois', 'quatro', 'cinco', 'quatro']\n",
      "2\n",
      "2\n",
      "['zero', 'dois', 'quatro', 'cinco', 'quatro', 'zero', 'dois', 'quatro', 'cinco', 'quatro']\n"
     ]
    }
   ],
   "source": [
    "teste = [] # Inserindo uma lista vazia\n",
    "teste.append('zero')\n",
    "teste.append('um')\n",
    "print(teste)\n",
    "teste.extend(['dois','tres',])\n",
    "soma = ['quatro','cinco']\n",
    "teste += soma # Isto aqui equivale a teste = teste + soma\n",
    "print(teste) \n",
    "print(''''As variáveis da \n",
    "      lista \"teste\" são: {0}, {1}, {2}, {3}, {4} e {5}'''.format(teste[0],teste[1],teste[2],teste[3]\n",
    "                                                    ,teste[4],teste[5]))\n",
    "print('As variáveis das posições 0 e 3 da lista \"teste\" são {0} e {1}.'.format(teste[0],teste[3]))\n",
    "print('Antes a lista \"teste\" era: {0}'.format(teste)) \n",
    "del teste[3]  # Aqui elimino o elemento na terceira posição da lista \"teste\"\n",
    "print('Agora a lista \"teste\" é: '+str(teste)+' ou seja, sem o elemento que ocupava a terceira posição.')\n",
    "teste.remove(\"um\") # Este método remove a string \"um\" da lista \"teste\"\n",
    "print(teste)\n",
    "teste.append(\"quatro\")\n",
    "print(teste)\n",
    "print(teste.index(\"quatro\")) # O método \"index\" mostra a primeira posição da lista em que está o elemento\n",
    "                             # \"quatro\"\n",
    "print(teste.count(\"quatro\")) # Este método conta quantas vezes o elemento \"quatro\" se repete na lista\n",
    "print(2*teste)"
   ]
  },
  {
   "cell_type": "code",
   "execution_count": 2,
   "metadata": {},
   "outputs": [],
   "source": [
    "strin = 'Python Pro'"
   ]
  },
  {
   "cell_type": "code",
   "execution_count": 3,
   "metadata": {},
   "outputs": [
    {
     "data": {
      "text/plain": [
       "['Python', 'Pro']"
      ]
     },
     "execution_count": 3,
     "metadata": {},
     "output_type": "execute_result"
    }
   ],
   "source": [
    "# Posso usar split() para pegar cada palavra de uma string e gerar\n",
    "# uma lista:\n",
    "strin.split()"
   ]
  },
  {
   "cell_type": "code",
   "execution_count": 5,
   "metadata": {},
   "outputs": [
    {
     "data": {
      "text/plain": [
       "['Andre', 'Cezar']"
      ]
     },
     "execution_count": 5,
     "metadata": {},
     "output_type": "execute_result"
    }
   ],
   "source": [
    "# Posso usar split() para pegar cada palavra de uma string e gerar\n",
    "# uma lista:\n",
    "s = 'Andre-Cezar'\n",
    "s.split('-')"
   ]
  },
  {
   "cell_type": "code",
   "execution_count": 6,
   "metadata": {},
   "outputs": [
    {
     "data": {
      "text/plain": [
       "['Andre', 'Cezar']"
      ]
     },
     "execution_count": 6,
     "metadata": {},
     "output_type": "execute_result"
    }
   ],
   "source": [
    "# Posso pegar o último objeto retornado usando o underscore: \"_\":\n",
    "lp = _\n",
    "lp"
   ]
  },
  {
   "cell_type": "code",
   "execution_count": 7,
   "metadata": {},
   "outputs": [
    {
     "data": {
      "text/plain": [
       "'Andre-Cezar'"
      ]
     },
     "execution_count": 7,
     "metadata": {},
     "output_type": "execute_result"
    }
   ],
   "source": [
    "# Usando join() para produzir uma string separada por \"-\" a partir\n",
    "# de uma lista:\n",
    "nome = '-'.join(lp)\n",
    "nome"
   ]
  },
  {
   "cell_type": "code",
   "execution_count": 1,
   "metadata": {},
   "outputs": [
    {
     "name": "stdout",
     "output_type": "stream",
     "text": [
      "[11.25, 18.0, 20.0, 10.75, 9.5]\n"
     ]
    }
   ],
   "source": [
    "# A função \"sorted(lista, key=None, reverse=True)\" pega uma lista \n",
    "# já existente e constrói uma nova lista, podendo\n",
    "# esta ser composta de valores crescentes (reverse=False) ou\n",
    "# descrescnetes (reverse=True)\n",
    "first = [11.25, 18.0, 20.0]\n",
    "second = [10.75, 9.50]\n",
    "full = first + second\n",
    "print(full)"
   ]
  },
  {
   "cell_type": "code",
   "execution_count": 2,
   "metadata": {},
   "outputs": [
    {
     "name": "stdout",
     "output_type": "stream",
     "text": [
      "[20.0, 18.0, 11.25, 10.75, 9.5]\n"
     ]
    }
   ],
   "source": [
    "full_sorted = sorted(full, reverse=True)\n",
    "print(full_sorted)"
   ]
  },
  {
   "cell_type": "code",
   "execution_count": 3,
   "metadata": {},
   "outputs": [
    {
     "name": "stdout",
     "output_type": "stream",
     "text": [
      "[9.5, 10.75, 11.25, 18.0, 20.0]\n"
     ]
    }
   ],
   "source": [
    "full_sorted = sorted(full, reverse=False)\n",
    "print(full_sorted)"
   ]
  },
  {
   "cell_type": "markdown",
   "metadata": {},
   "source": [
    "# Sets"
   ]
  },
  {
   "cell_type": "code",
   "execution_count": 31,
   "metadata": {},
   "outputs": [
    {
     "name": "stdout",
     "output_type": "stream",
     "text": [
      "{123, 12, 111}\n"
     ]
    }
   ],
   "source": [
    "# Definindo um SET, que é uma lista que não considera elementos repetidos, mesmo que eu tenha inserido \n",
    "# o mesmo elemento mais de uma vez. Um SET é definido entre CHAVES, e não entre colchetes\n",
    "set1 = {111, 123, 12, 111}\n",
    "print(set1)       "
   ]
  },
  {
   "cell_type": "markdown",
   "metadata": {},
   "source": [
    "## Usando o range()"
   ]
  },
  {
   "cell_type": "code",
   "execution_count": 51,
   "metadata": {},
   "outputs": [
    {
     "name": "stdout",
     "output_type": "stream",
     "text": [
      "range(1, 12)\n",
      "[1, 2, 3, 4, 5, 6, 7, 8, 9, 10, 11]\n",
      "11\n",
      "11\n"
     ]
    }
   ],
   "source": [
    "# Gerando um vetor ou uma lista de números inteiros sequenciais, desde que o número inicial seja menor que\n",
    "# o final\n",
    "obj_range = range(1,12) # cria um objeto range com todos os elementos MENOS O ÙLTIMO.\n",
    "print(obj_range)\n",
    "vet = list(range(1, 12)) # cria uma lista a partir do objeto range, com todos os elementos MENOS O ÙLTIMO. \n",
    "print(vet)\n",
    "print(len(obj_range))\n",
    "print(len(vet))"
   ]
  },
  {
   "cell_type": "code",
   "execution_count": 53,
   "metadata": {},
   "outputs": [
    {
     "name": "stdout",
     "output_type": "stream",
     "text": [
      "[0, 1, 2, 3, 4]\n"
     ]
    }
   ],
   "source": [
    "print(list(range(5))) # Aqui só estou dando o número final, O QUAL NÃO ENTRARÁ NA LISTA! "
   ]
  },
  {
   "cell_type": "code",
   "execution_count": 54,
   "metadata": {},
   "outputs": [
    {
     "data": {
      "text/plain": [
       "range(0, 24, 4)"
      ]
     },
     "execution_count": 54,
     "metadata": {},
     "output_type": "execute_result"
    }
   ],
   "source": [
    "a = range(0,24,4) # Tenho aqui um range que começa no zero, pula de 4 em 4 e termina no número 20\n",
    "a"
   ]
  },
  {
   "cell_type": "code",
   "execution_count": 56,
   "metadata": {},
   "outputs": [
    {
     "data": {
      "text/plain": [
       "[0, 4, 8, 12, 16, 20]"
      ]
     },
     "execution_count": 56,
     "metadata": {},
     "output_type": "execute_result"
    }
   ],
   "source": [
    "# Posso atribuir o range \"a\" para uma lista:\n",
    "lo = list(a)\n",
    "lo"
   ]
  },
  {
   "cell_type": "markdown",
   "metadata": {},
   "source": [
    "# Tuplas"
   ]
  },
  {
   "cell_type": "code",
   "execution_count": 8,
   "metadata": {},
   "outputs": [
    {
     "data": {
      "text/plain": [
       "(1, 2, 3)"
      ]
     },
     "execution_count": 8,
     "metadata": {},
     "output_type": "execute_result"
    }
   ],
   "source": [
    "# Criando:\n",
    "tpl = (1, 2, 3)\n",
    "tpl"
   ]
  },
  {
   "cell_type": "code",
   "execution_count": 9,
   "metadata": {},
   "outputs": [
    {
     "data": {
      "text/plain": [
       "tuple"
      ]
     },
     "execution_count": 9,
     "metadata": {},
     "output_type": "execute_result"
    }
   ],
   "source": [
    "type(tpl)"
   ]
  },
  {
   "cell_type": "code",
   "execution_count": 10,
   "metadata": {},
   "outputs": [
    {
     "data": {
      "text/plain": [
       "['__add__',\n",
       " '__class__',\n",
       " '__contains__',\n",
       " '__delattr__',\n",
       " '__dir__',\n",
       " '__doc__',\n",
       " '__eq__',\n",
       " '__format__',\n",
       " '__ge__',\n",
       " '__getattribute__',\n",
       " '__getitem__',\n",
       " '__getnewargs__',\n",
       " '__gt__',\n",
       " '__hash__',\n",
       " '__init__',\n",
       " '__init_subclass__',\n",
       " '__iter__',\n",
       " '__le__',\n",
       " '__len__',\n",
       " '__lt__',\n",
       " '__mul__',\n",
       " '__ne__',\n",
       " '__new__',\n",
       " '__reduce__',\n",
       " '__reduce_ex__',\n",
       " '__repr__',\n",
       " '__rmul__',\n",
       " '__setattr__',\n",
       " '__sizeof__',\n",
       " '__str__',\n",
       " '__subclasshook__',\n",
       " 'count',\n",
       " 'index']"
      ]
     },
     "execution_count": 10,
     "metadata": {},
     "output_type": "execute_result"
    }
   ],
   "source": [
    "dir(tpl)"
   ]
  },
  {
   "cell_type": "code",
   "execution_count": 11,
   "metadata": {},
   "outputs": [
    {
     "data": {
      "text/plain": [
       "(0, 1, 2, 3, 4, 5)"
      ]
     },
     "execution_count": 11,
     "metadata": {},
     "output_type": "execute_result"
    }
   ],
   "source": [
    "teste = tuple(range(6))\n",
    "teste"
   ]
  },
  {
   "cell_type": "code",
   "execution_count": 12,
   "metadata": {},
   "outputs": [
    {
     "data": {
      "text/plain": [
       "14"
      ]
     },
     "execution_count": 12,
     "metadata": {},
     "output_type": "execute_result"
    }
   ],
   "source": [
    "2+3*4"
   ]
  },
  {
   "cell_type": "code",
   "execution_count": 13,
   "metadata": {},
   "outputs": [
    {
     "data": {
      "text/plain": [
       "20"
      ]
     },
     "execution_count": 13,
     "metadata": {},
     "output_type": "execute_result"
    }
   ],
   "source": [
    "(2+3)*4"
   ]
  },
  {
   "cell_type": "code",
   "execution_count": 14,
   "metadata": {},
   "outputs": [
    {
     "data": {
      "text/plain": [
       "6"
      ]
     },
     "execution_count": 14,
     "metadata": {},
     "output_type": "execute_result"
    }
   ],
   "source": [
    "# Não é possível criar uma tupla somente com um elemento:\n",
    "(6)"
   ]
  },
  {
   "cell_type": "code",
   "execution_count": 15,
   "metadata": {},
   "outputs": [
    {
     "data": {
      "text/plain": [
       "int"
      ]
     },
     "execution_count": 15,
     "metadata": {},
     "output_type": "execute_result"
    }
   ],
   "source": [
    "type((6))"
   ]
  },
  {
   "cell_type": "code",
   "execution_count": 16,
   "metadata": {},
   "outputs": [
    {
     "data": {
      "text/plain": [
       "(6,)"
      ]
     },
     "execution_count": 16,
     "metadata": {},
     "output_type": "execute_result"
    }
   ],
   "source": [
    "# Pra criar tupla com só um elemento uso a vírgula:\n",
    "(6,)"
   ]
  },
  {
   "cell_type": "code",
   "execution_count": 17,
   "metadata": {},
   "outputs": [
    {
     "data": {
      "text/plain": [
       "tuple"
      ]
     },
     "execution_count": 17,
     "metadata": {},
     "output_type": "execute_result"
    }
   ],
   "source": [
    "type((6,))"
   ]
  },
  {
   "cell_type": "code",
   "execution_count": 18,
   "metadata": {},
   "outputs": [
    {
     "data": {
      "text/plain": [
       "'Andre'"
      ]
     },
     "execution_count": 18,
     "metadata": {},
     "output_type": "execute_result"
    }
   ],
   "source": [
    "# Tuplas podem ser 'desempacotadas':\n",
    "registro = ('Andre', 31)\n",
    "nome, idade = registro\n",
    "nome"
   ]
  },
  {
   "cell_type": "code",
   "execution_count": 19,
   "metadata": {},
   "outputs": [
    {
     "data": {
      "text/plain": [
       "31"
      ]
     },
     "execution_count": 19,
     "metadata": {},
     "output_type": "execute_result"
    }
   ],
   "source": [
    "idade"
   ]
  },
  {
   "cell_type": "code",
   "execution_count": 20,
   "metadata": {},
   "outputs": [
    {
     "data": {
      "text/plain": [
       "('Andre', 31, 'Rosa', 29)"
      ]
     },
     "execution_count": 20,
     "metadata": {},
     "output_type": "execute_result"
    }
   ],
   "source": [
    "# Posso concatenar tuplas e gerar uma terceira tupla, sem mudar \n",
    "# as tuplas originais:\n",
    "registro2 = ('Rosa', 29)\n",
    "registro + registro2"
   ]
  },
  {
   "cell_type": "code",
   "execution_count": 21,
   "metadata": {},
   "outputs": [
    {
     "data": {
      "text/plain": [
       "('Andre', 31)"
      ]
     },
     "execution_count": 21,
     "metadata": {},
     "output_type": "execute_result"
    }
   ],
   "source": [
    "registro"
   ]
  },
  {
   "cell_type": "code",
   "execution_count": 22,
   "metadata": {},
   "outputs": [
    {
     "data": {
      "text/plain": [
       "('Rosa', 29)"
      ]
     },
     "execution_count": 22,
     "metadata": {},
     "output_type": "execute_result"
    }
   ],
   "source": [
    "registro2"
   ]
  },
  {
   "cell_type": "code",
   "execution_count": 25,
   "metadata": {},
   "outputs": [
    {
     "data": {
      "text/plain": [
       "139790478107584"
      ]
     },
     "execution_count": 25,
     "metadata": {},
     "output_type": "execute_result"
    }
   ],
   "source": [
    "# A TODOS os objetos do python é atribuído um tipo de \"RG\", que\n",
    "# pode ser acessado usando id():\n",
    "id(registro)"
   ]
  },
  {
   "cell_type": "code",
   "execution_count": 26,
   "metadata": {},
   "outputs": [
    {
     "data": {
      "text/plain": [
       "139790478085408"
      ]
     },
     "execution_count": 26,
     "metadata": {},
     "output_type": "execute_result"
    }
   ],
   "source": [
    "id(registro2)"
   ]
  },
  {
   "cell_type": "markdown",
   "metadata": {},
   "source": [
    "## Acesso, Tamanho e Fatiamento"
   ]
  },
  {
   "cell_type": "code",
   "execution_count": 27,
   "metadata": {},
   "outputs": [
    {
     "data": {
      "text/plain": [
       "'A'"
      ]
     },
     "execution_count": 27,
     "metadata": {},
     "output_type": "execute_result"
    }
   ],
   "source": [
    "nome='Andre'\n",
    "nome[0]"
   ]
  },
  {
   "cell_type": "code",
   "execution_count": 28,
   "metadata": {},
   "outputs": [
    {
     "data": {
      "text/plain": [
       "5"
      ]
     },
     "execution_count": 28,
     "metadata": {},
     "output_type": "execute_result"
    }
   ],
   "source": [
    "len(nome)"
   ]
  },
  {
   "cell_type": "code",
   "execution_count": 29,
   "metadata": {},
   "outputs": [
    {
     "data": {
      "text/plain": [
       "'e'"
      ]
     },
     "execution_count": 29,
     "metadata": {},
     "output_type": "execute_result"
    }
   ],
   "source": [
    "nome[len(nome) - 1]"
   ]
  },
  {
   "cell_type": "code",
   "execution_count": 30,
   "metadata": {},
   "outputs": [
    {
     "data": {
      "text/plain": [
       "'e'"
      ]
     },
     "execution_count": 30,
     "metadata": {},
     "output_type": "execute_result"
    }
   ],
   "source": [
    "nome[-1]"
   ]
  },
  {
   "cell_type": "code",
   "execution_count": 31,
   "metadata": {},
   "outputs": [
    {
     "data": {
      "text/plain": [
       "'r'"
      ]
     },
     "execution_count": 31,
     "metadata": {},
     "output_type": "execute_result"
    }
   ],
   "source": [
    "nome[-2]"
   ]
  },
  {
   "cell_type": "code",
   "execution_count": 32,
   "metadata": {},
   "outputs": [
    {
     "data": {
      "text/plain": [
       "'And'"
      ]
     },
     "execution_count": 32,
     "metadata": {},
     "output_type": "execute_result"
    }
   ],
   "source": [
    "nome[0:3]"
   ]
  },
  {
   "cell_type": "code",
   "execution_count": 33,
   "metadata": {},
   "outputs": [
    {
     "data": {
      "text/plain": [
       "'And'"
      ]
     },
     "execution_count": 33,
     "metadata": {},
     "output_type": "execute_result"
    }
   ],
   "source": [
    "nome[:3]"
   ]
  },
  {
   "cell_type": "code",
   "execution_count": 34,
   "metadata": {},
   "outputs": [
    {
     "data": {
      "text/plain": [
       "'dre'"
      ]
     },
     "execution_count": 34,
     "metadata": {},
     "output_type": "execute_result"
    }
   ],
   "source": [
    "nome[-3:]"
   ]
  },
  {
   "cell_type": "code",
   "execution_count": 35,
   "metadata": {},
   "outputs": [
    {
     "data": {
      "text/plain": [
       "'Ad'"
      ]
     },
     "execution_count": 35,
     "metadata": {},
     "output_type": "execute_result"
    }
   ],
   "source": [
    "nome[:4:2]"
   ]
  },
  {
   "cell_type": "code",
   "execution_count": 36,
   "metadata": {},
   "outputs": [
    {
     "data": {
      "text/plain": [
       "'erdnA'"
      ]
     },
     "execution_count": 36,
     "metadata": {},
     "output_type": "execute_result"
    }
   ],
   "source": [
    "# Invertendo uma string:\n",
    "nome[::-1]"
   ]
  },
  {
   "cell_type": "code",
   "execution_count": 39,
   "metadata": {},
   "outputs": [
    {
     "name": "stdout",
     "output_type": "stream",
     "text": [
      "[0, 1, 2, 3, 4, 5, 6, 7, 8, 9]\n"
     ]
    },
    {
     "data": {
      "text/plain": [
       "[9, 8, 7, 6, 5, 4, 3, 2, 1, 0]"
      ]
     },
     "execution_count": 39,
     "metadata": {},
     "output_type": "execute_result"
    }
   ],
   "source": [
    "# Invertendo uma lista:\n",
    "lista = list(range(10))\n",
    "print(lista)\n",
    "lista[::-1]"
   ]
  },
  {
   "cell_type": "code",
   "execution_count": null,
   "metadata": {},
   "outputs": [],
   "source": []
  }
 ],
 "metadata": {
  "kernelspec": {
   "display_name": "Python 3",
   "language": "python",
   "name": "python3"
  },
  "language_info": {
   "codemirror_mode": {
    "name": "ipython",
    "version": 3
   },
   "file_extension": ".py",
   "mimetype": "text/x-python",
   "name": "python",
   "nbconvert_exporter": "python",
   "pygments_lexer": "ipython3",
   "version": "3.8.3"
  }
 },
 "nbformat": 4,
 "nbformat_minor": 4
}
